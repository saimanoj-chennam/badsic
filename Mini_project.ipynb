{
  "nbformat": 4,
  "nbformat_minor": 0,
  "metadata": {
    "colab": {
      "name": "Mini project",
      "provenance": [],
      "authorship_tag": "ABX9TyOxU4GZU97FdDquuSQDq6Su",
      "include_colab_link": true
    },
    "kernelspec": {
      "name": "python3",
      "display_name": "Python 3"
    },
    "language_info": {
      "name": "python"
    }
  },
  "cells": [
    {
      "cell_type": "markdown",
      "metadata": {
        "id": "view-in-github",
        "colab_type": "text"
      },
      "source": [
        "<a href=\"https://colab.research.google.com/github/saimanoj-chennam/badsic/blob/master/Mini_project.ipynb\" target=\"_parent\"><img src=\"https://colab.research.google.com/assets/colab-badge.svg\" alt=\"Open In Colab\"/></a>"
      ]
    },
    {
      "cell_type": "code",
      "metadata": {
        "colab": {
          "base_uri": "https://localhost:8080/"
        },
        "id": "8vvBohyCpBqX",
        "outputId": "f22dbc92-3f5d-4921-b7a0-e4e97f7fed77"
      },
      "source": [
        "!pip install ipython-autotime\n",
        "%load_ext autotime\n"
      ],
      "execution_count": 1,
      "outputs": [
        {
          "output_type": "stream",
          "text": [
            "Collecting ipython-autotime\n",
            "  Downloading https://files.pythonhosted.org/packages/b4/c9/b413a24f759641bc27ef98c144b590023c8038dfb8a3f09e713e9dff12c1/ipython_autotime-0.3.1-py2.py3-none-any.whl\n",
            "Requirement already satisfied: ipython in /usr/local/lib/python3.7/dist-packages (from ipython-autotime) (5.5.0)\n",
            "Requirement already satisfied: prompt-toolkit<2.0.0,>=1.0.4 in /usr/local/lib/python3.7/dist-packages (from ipython->ipython-autotime) (1.0.18)\n",
            "Requirement already satisfied: setuptools>=18.5 in /usr/local/lib/python3.7/dist-packages (from ipython->ipython-autotime) (56.0.0)\n",
            "Requirement already satisfied: pexpect; sys_platform != \"win32\" in /usr/local/lib/python3.7/dist-packages (from ipython->ipython-autotime) (4.8.0)\n",
            "Requirement already satisfied: pygments in /usr/local/lib/python3.7/dist-packages (from ipython->ipython-autotime) (2.6.1)\n",
            "Requirement already satisfied: decorator in /usr/local/lib/python3.7/dist-packages (from ipython->ipython-autotime) (4.4.2)\n",
            "Requirement already satisfied: pickleshare in /usr/local/lib/python3.7/dist-packages (from ipython->ipython-autotime) (0.7.5)\n",
            "Requirement already satisfied: traitlets>=4.2 in /usr/local/lib/python3.7/dist-packages (from ipython->ipython-autotime) (5.0.5)\n",
            "Requirement already satisfied: simplegeneric>0.8 in /usr/local/lib/python3.7/dist-packages (from ipython->ipython-autotime) (0.8.1)\n",
            "Requirement already satisfied: wcwidth in /usr/local/lib/python3.7/dist-packages (from prompt-toolkit<2.0.0,>=1.0.4->ipython->ipython-autotime) (0.2.5)\n",
            "Requirement already satisfied: six>=1.9.0 in /usr/local/lib/python3.7/dist-packages (from prompt-toolkit<2.0.0,>=1.0.4->ipython->ipython-autotime) (1.15.0)\n",
            "Requirement already satisfied: ptyprocess>=0.5 in /usr/local/lib/python3.7/dist-packages (from pexpect; sys_platform != \"win32\"->ipython->ipython-autotime) (0.7.0)\n",
            "Requirement already satisfied: ipython-genutils in /usr/local/lib/python3.7/dist-packages (from traitlets>=4.2->ipython->ipython-autotime) (0.2.0)\n",
            "Installing collected packages: ipython-autotime\n",
            "Successfully installed ipython-autotime-0.3.1\n",
            "time: 1.84 ms (started: 2021-04-29 13:48:27 +00:00)\n"
          ],
          "name": "stdout"
        }
      ]
    },
    {
      "cell_type": "code",
      "metadata": {
        "colab": {
          "base_uri": "https://localhost:8080/"
        },
        "id": "nCZFGcNupVGl",
        "outputId": "0021dc70-945d-4f9e-ec65-f55eb184fc28"
      },
      "source": [
        "!pip install bing-image-downloader\n"
      ],
      "execution_count": 2,
      "outputs": [
        {
          "output_type": "stream",
          "text": [
            "Collecting bing-image-downloader\n",
            "  Downloading https://files.pythonhosted.org/packages/0d/bf/537a61030b84ae4cd5022d5c7b014fd9bc3ce7c02358919153a6658a61d3/bing_image_downloader-1.0.4-py3-none-any.whl\n",
            "Installing collected packages: bing-image-downloader\n",
            "Successfully installed bing-image-downloader-1.0.4\n",
            "time: 2.95 s (started: 2021-04-29 13:48:32 +00:00)\n"
          ],
          "name": "stdout"
        }
      ]
    },
    {
      "cell_type": "code",
      "metadata": {
        "colab": {
          "base_uri": "https://localhost:8080/"
        },
        "id": "DG1_n5Y0pZg3",
        "outputId": "bf4102a7-f609-4a12-c51b-d1c866f89bbf"
      },
      "source": [
        "!mkdir images  "
      ],
      "execution_count": 3,
      "outputs": [
        {
          "output_type": "stream",
          "text": [
            "time: 115 ms (started: 2021-04-29 13:48:38 +00:00)\n"
          ],
          "name": "stdout"
        }
      ]
    },
    {
      "cell_type": "code",
      "metadata": {
        "id": "058dh98JpmQT",
        "colab": {
          "base_uri": "https://localhost:8080/"
        },
        "outputId": "4fd577f6-af03-4b1e-ad80-37798f3d9e1c"
      },
      "source": [
        "from bing_image_downloader import downloader\n",
        "downloader.download(\"cricket ball\",limit=30,output_dir='images',adult_filter_off=True)\n"
      ],
      "execution_count": 4,
      "outputs": [
        {
          "output_type": "stream",
          "text": [
            "\n",
            "\n",
            "[!!]Indexing page: 1\n",
            "\n",
            "[%] Indexed 12 Images on Page 1.\n",
            "\n",
            "===============================================\n",
            "\n",
            "[%] Downloading Image #1 from https://fsa.zobj.net/crop.php?r=y-2hsKOHjN8cPIKnpoToCyhqLy0RoG5KiqajV_HkYbBUNbYpUr7IOUQrsGA16xUm9W-PqCxvhlyT3fY8NRW_ORSPkpTe1rE8syNBq3JxDvgk8JZcbTuXnK5sdTqbTsXmog9YbSxW_Lexk2G_ykuEfS9wAbUPH_auXiuYhUkX4rIiQ_z6c4N9lDp_oes\n",
            "[%] File Downloaded !\n",
            "\n",
            "[%] Downloading Image #2 from https://www.trbimg.com/img-5476b842/turbine/chi-cricket-australia-phil-hughes-dies-20141126\n",
            "[%] File Downloaded !\n",
            "\n",
            "[%] Downloading Image #3 from http://static.soposted.com/uploads/2016/05/First_PaperMoney.jpg\n",
            "[%] File Downloaded !\n",
            "\n",
            "[%] Downloading Image #4 from http://www.leder-info.de/images/thumb/Fussball-01-Ledermuseum-Offenbach.jpg/250px-Fussball-01-Ledermuseum-Offenbach.jpg\n",
            "[%] File Downloaded !\n",
            "\n",
            "[%] Downloading Image #5 from http://i.ytimg.com/vi/G35CVfGxvh4/maxresdefault.jpg\n",
            "[%] File Downloaded !\n",
            "\n",
            "[%] Downloading Image #6 from https://www.bigw.com.au/medias/sys_master/images/images/h65/hc6/17478586400798.jpg\n",
            "[%] File Downloaded !\n",
            "\n",
            "[%] Downloading Image #7 from https://hdwallpapers.move.pk/wp-content/uploads/2015/05/Son-Goku-images.jpg\n",
            "[%] File Downloaded !\n",
            "\n",
            "[%] Downloading Image #8 from https://staticg.sportskeeda.com/editor/2020/10/bdb9e-16029204395858-800.jpg\n",
            "[Error]Invalid image, not saving https://staticg.sportskeeda.com/editor/2020/10/bdb9e-16029204395858-800.jpg\n",
            "\n",
            "[!] Issue getting: https://staticg.sportskeeda.com/editor/2020/10/bdb9e-16029204395858-800.jpg\n",
            "[!] Error:: No active exception to reraise\n",
            "[%] Downloading Image #8 from https://www.bigw.com.au/medias/sys_master/images/images/hbc/h2c/16739803168798.jpg\n",
            "[%] File Downloaded !\n",
            "\n",
            "[%] Downloading Image #9 from https://hdwallpapers.move.pk/wp-content/uploads/2015/05/son-goku.jpg\n",
            "[%] File Downloaded !\n",
            "\n",
            "[%] Downloading Image #10 from https://clubfauna.com/wp-content/uploads/2014/04/DIY-Reptile-Fogger-Completed.jpg\n",
            "[%] File Downloaded !\n",
            "\n",
            "[%] Downloading Image #11 from http://3.bp.blogspot.com/-VrlQ4iamIvE/T59y2qs6XSI/AAAAAAAAAeE/7isijJNIDjU/s1600/unique-wedding-cake11002.jpg\n",
            "[%] File Downloaded !\n",
            "\n",
            "\n",
            "\n",
            "[!!]Indexing page: 2\n",
            "\n",
            "[%] Indexed 12 Images on Page 2.\n",
            "\n",
            "===============================================\n",
            "\n",
            "[%] Downloading Image #12 from https://fsa.zobj.net/crop.php?r=y-2hsKOHjN8cPIKnpoToCyhqLy0RoG5KiqajV_HkYbBUNbYpUr7IOUQrsGA16xUm9W-PqCxvhlyT3fY8NRW_ORSPkpTe1rE8syNBq3JxDvgk8JZcbTuXnK5sdTqbTsXmog9YbSxW_Lexk2G_ykuEfS9wAbUPH_auXiuYhUkX4rIiQ_z6c4N9lDp_oes\n",
            "[%] File Downloaded !\n",
            "\n",
            "[%] Downloading Image #13 from https://www.trbimg.com/img-5476b842/turbine/chi-cricket-australia-phil-hughes-dies-20141126\n",
            "[%] File Downloaded !\n",
            "\n",
            "[%] Downloading Image #14 from http://static.soposted.com/uploads/2016/05/First_PaperMoney.jpg\n",
            "[%] File Downloaded !\n",
            "\n",
            "[%] Downloading Image #15 from http://www.leder-info.de/images/thumb/Fussball-01-Ledermuseum-Offenbach.jpg/250px-Fussball-01-Ledermuseum-Offenbach.jpg\n",
            "[%] File Downloaded !\n",
            "\n",
            "[%] Downloading Image #16 from http://i.ytimg.com/vi/G35CVfGxvh4/maxresdefault.jpg\n",
            "[%] File Downloaded !\n",
            "\n",
            "[%] Downloading Image #17 from https://www.bigw.com.au/medias/sys_master/images/images/h65/hc6/17478586400798.jpg\n",
            "[%] File Downloaded !\n",
            "\n",
            "[%] Downloading Image #18 from https://hdwallpapers.move.pk/wp-content/uploads/2015/05/Son-Goku-images.jpg\n",
            "[%] File Downloaded !\n",
            "\n",
            "[%] Downloading Image #19 from https://staticg.sportskeeda.com/editor/2020/10/bdb9e-16029204395858-800.jpg\n",
            "[Error]Invalid image, not saving https://staticg.sportskeeda.com/editor/2020/10/bdb9e-16029204395858-800.jpg\n",
            "\n",
            "[!] Issue getting: https://staticg.sportskeeda.com/editor/2020/10/bdb9e-16029204395858-800.jpg\n",
            "[!] Error:: No active exception to reraise\n",
            "[%] Downloading Image #19 from https://www.bigw.com.au/medias/sys_master/images/images/hbc/h2c/16739803168798.jpg\n",
            "[%] File Downloaded !\n",
            "\n",
            "[%] Downloading Image #20 from https://hdwallpapers.move.pk/wp-content/uploads/2015/05/son-goku.jpg\n",
            "[%] File Downloaded !\n",
            "\n",
            "[%] Downloading Image #21 from https://clubfauna.com/wp-content/uploads/2014/04/DIY-Reptile-Fogger-Completed.jpg\n",
            "[%] File Downloaded !\n",
            "\n",
            "[%] Downloading Image #22 from http://3.bp.blogspot.com/-VrlQ4iamIvE/T59y2qs6XSI/AAAAAAAAAeE/7isijJNIDjU/s1600/unique-wedding-cake11002.jpg\n",
            "[%] File Downloaded !\n",
            "\n",
            "\n",
            "\n",
            "[!!]Indexing page: 3\n",
            "\n",
            "[%] Indexed 11 Images on Page 3.\n",
            "\n",
            "===============================================\n",
            "\n",
            "[%] Downloading Image #23 from https://www.trbimg.com/img-5476b842/turbine/chi-cricket-australia-phil-hughes-dies-20141126\n",
            "[%] File Downloaded !\n",
            "\n",
            "[%] Downloading Image #24 from http://static.soposted.com/uploads/2016/05/First_PaperMoney.jpg\n",
            "[%] File Downloaded !\n",
            "\n",
            "[%] Downloading Image #25 from http://www.leder-info.de/images/thumb/Fussball-01-Ledermuseum-Offenbach.jpg/250px-Fussball-01-Ledermuseum-Offenbach.jpg\n",
            "[%] File Downloaded !\n",
            "\n",
            "[%] Downloading Image #26 from http://i.ytimg.com/vi/G35CVfGxvh4/maxresdefault.jpg\n",
            "[%] File Downloaded !\n",
            "\n",
            "[%] Downloading Image #27 from https://www.bigw.com.au/medias/sys_master/images/images/h65/hc6/17478586400798.jpg\n",
            "[%] File Downloaded !\n",
            "\n",
            "[%] Downloading Image #28 from https://hdwallpapers.move.pk/wp-content/uploads/2015/05/Son-Goku-images.jpg\n",
            "[%] File Downloaded !\n",
            "\n",
            "[%] Downloading Image #29 from https://staticg.sportskeeda.com/editor/2020/10/bdb9e-16029204395858-800.jpg\n",
            "[Error]Invalid image, not saving https://staticg.sportskeeda.com/editor/2020/10/bdb9e-16029204395858-800.jpg\n",
            "\n",
            "[!] Issue getting: https://staticg.sportskeeda.com/editor/2020/10/bdb9e-16029204395858-800.jpg\n",
            "[!] Error:: No active exception to reraise\n",
            "[%] Downloading Image #29 from https://www.bigw.com.au/medias/sys_master/images/images/hbc/h2c/16739803168798.jpg\n",
            "[%] File Downloaded !\n",
            "\n",
            "[%] Downloading Image #30 from https://hdwallpapers.move.pk/wp-content/uploads/2015/05/son-goku.jpg\n",
            "[%] File Downloaded !\n",
            "\n",
            "\n",
            "\n",
            "[%] Done. Downloaded 30 images.\n",
            "\n",
            "===============================================\n",
            "\n",
            "time: 16.7 s (started: 2021-04-29 13:48:40 +00:00)\n"
          ],
          "name": "stdout"
        }
      ]
    },
    {
      "cell_type": "code",
      "metadata": {
        "colab": {
          "base_uri": "https://localhost:8080/"
        },
        "id": "U35JdjqcqOJ_",
        "outputId": "95cf6bc7-25b3-4f38-d636-41006a1acdd3"
      },
      "source": [
        " downloader.download(\"pretty sun flower\",limit=30,output_dir='images',adult_filter_off=True)\n"
      ],
      "execution_count": 5,
      "outputs": [
        {
          "output_type": "stream",
          "text": [
            "\n",
            "\n",
            "[!!]Indexing page: 1\n",
            "\n",
            "[%] Indexed 12 Images on Page 1.\n",
            "\n",
            "===============================================\n",
            "\n",
            "[%] Downloading Image #1 from https://imgix.bustle.com/uploads/image/2018/2/22/f2377697-c563-4485-9988-248cec8717c6-stocksy_txpeed124aczuq100_small_1508078.jpg?w=1200&amp;h=630&amp;q=70&amp;fit=crop&amp;crop=faces&amp;fm=jpg\n",
            "[%] File Downloaded !\n",
            "\n",
            "[%] Downloading Image #2 from http://www.prettydesigns.com/wp-content/uploads/2014/11/Astract-Flower-Tattoo.jpg\n",
            "[%] File Downloaded !\n",
            "\n",
            "[%] Downloading Image #3 from http://getwallpapers.com/wallpaper/full/1/e/a/820310-sunflowers-wallpaper-1920x1200-4k.jpg\n",
            "[%] File Downloaded !\n",
            "\n",
            "[%] Downloading Image #4 from https://www.wallpapers13.com/wp-content/uploads/2018/04/Pansy-yellow-and-purple-flowers-hd-wallpapers-1920X1200.jpg\n",
            "[%] File Downloaded !\n",
            "\n",
            "[%] Downloading Image #5 from https://www.wallpapers13.com/wp-content/uploads/2015/12/Lily-Flower-Wallpapers-HD-2560X1600-1920x1080.jpg\n",
            "[%] File Downloaded !\n",
            "\n",
            "[%] Downloading Image #6 from http://www.wohhwedding.com/wp-content/uploads/2016/05/Sunflower-Wedding-Flower-Arrangements-Decorations.jpg\n",
            "[%] File Downloaded !\n",
            "\n",
            "[%] Downloading Image #7 from https://cdn.shopify.com/s/files/1/0011/2341/8172/products/FL2415-1_1024x1024.jpg?v=1523415196\n",
            "[%] File Downloaded !\n",
            "\n",
            "[%] Downloading Image #8 from https://www.wallpapers13.com/wp-content/uploads/2016/01/Landscape-Spring-field-beautiful-flowers-hills-grass-clouds-wallpaper-hd-54903.jpg\n",
            "[%] File Downloaded !\n",
            "\n",
            "[%] Downloading Image #9 from http://forcreativejuice.com/wp-content/uploads/2016/05/49-lotus-tattoo-ideas.jpg\n",
            "[%] File Downloaded !\n",
            "\n",
            "[%] Downloading Image #10 from http://www.landscape-design-advice.com/images/ground-cover-perennial-ajug.jpg\n",
            "[%] File Downloaded !\n",
            "\n",
            "[%] Downloading Image #11 from https://www.wallpapers13.com/wp-content/uploads/2015/12/Pink-lotus-flowers-HD-wallpaper-4a-1680x1050.jpg\n",
            "[%] File Downloaded !\n",
            "\n",
            "[%] Downloading Image #12 from https://www.wallpapers13.com/wp-content/uploads/2017/02/Pretty-pink-Flowers-dewdrops-Pink-Love-Wallpaper-HD-for-Desktop-1920x1200-1366x768.jpg\n",
            "[%] File Downloaded !\n",
            "\n",
            "\n",
            "\n",
            "[!!]Indexing page: 2\n",
            "\n",
            "[%] Indexed 13 Images on Page 2.\n",
            "\n",
            "===============================================\n",
            "\n",
            "[%] Downloading Image #13 from https://wallup.net/wp-content/uploads/2014/10/nature/Beautiful_Sunset_And_Flowers.jpg\n",
            "[%] File Downloaded !\n",
            "\n",
            "[%] Downloading Image #14 from https://i.pinimg.com/736x/c5/64/9d/c5649d18c6c6be6d7984248dc02f49af.jpg\n",
            "[%] File Downloaded !\n",
            "\n",
            "[%] Downloading Image #15 from https://cutebabypictures.org/d/2308-3/beautiful+toddler+photo+with+her+wearing+a+pretty+pink+and+white+dress.jpg\n",
            "[%] File Downloaded !\n",
            "\n",
            "[%] Downloading Image #16 from http://cooldigitalphotography.com/wp-content/uploads/2013/11/Sunflower8-620x1104.jpg\n",
            "[%] File Downloaded !\n",
            "\n",
            "[%] Downloading Image #17 from https://www.south-florida-plant-guide.com/images/crape-jasmine-flower.jpg\n",
            "[%] File Downloaded !\n",
            "\n",
            "[%] Downloading Image #18 from https://thumbs.dreamstime.com/z/beautiful-hippie-woods-24482067.jpg\n",
            "[%] File Downloaded !\n",
            "\n",
            "[%] Downloading Image #19 from https://i.pinimg.com/564x/9b/cf/ea/9bcfeaf36fd25bef608b88d8dc4d475c--purple-tulips-nature-photos.jpg\n",
            "[%] File Downloaded !\n",
            "\n",
            "[%] Downloading Image #20 from https://bestanimations.com/Nature/Flora/beautiful-flowers-animated-gif1.gif\n",
            "[%] File Downloaded !\n",
            "\n",
            "[%] Downloading Image #21 from https://www.bing.com/th/id/OGC.e9f73a09256f0c389e773c133a2cfd9d?pid=1.7&amp;rurl=https%3a%2f%2fbestanimations.com%2fNature%2fFlora%2fbeautiful-flowers-animated-gif1.gif&amp;ehk=s8iRJmoWDFdfCyXpFACydnzshJItIeO70MYUB1a00ow%3d\n",
            "[!] Issue getting: https://www.bing.com/th/id/OGC.e9f73a09256f0c389e773c133a2cfd9d?pid=1.7&amp;rurl=https%3a%2f%2fbestanimations.com%2fNature%2fFlora%2fbeautiful-flowers-animated-gif1.gif&amp;ehk=s8iRJmoWDFdfCyXpFACydnzshJItIeO70MYUB1a00ow%3d\n",
            "[!] Error:: HTTP Error 404: Not Found\n",
            "[%] Downloading Image #21 from https://i.pinimg.com/736x/f2/9d/cb/f29dcb8044a6f22e676c63d89b0f4557--laptop-backgrounds-laptop-wallpaper.jpg?b=t\n",
            "[%] File Downloaded !\n",
            "\n",
            "[%] Downloading Image #22 from https://onehundreddollarsamonth.com/wp-content/uploads/2013/05/cumin-flower.jpg\n",
            "[%] File Downloaded !\n",
            "\n",
            "[%] Downloading Image #23 from http://www.wristtattoopictures.com/wp-content/uploads/2016/06/Pretty-Rose-Tattoo-WT1100.jpg\n",
            "[%] File Downloaded !\n",
            "\n",
            "[%] Downloading Image #24 from http://2.bp.blogspot.com/-ZjJIYPXZn0I/TgpFno7vNwI/AAAAAAAABNo/xMMa0M0xPsw/s1600/Beautiful+Flowers+Walpapers+%252814%2529.jpg\n",
            "[%] File Downloaded !\n",
            "\n",
            "\n",
            "\n",
            "[!!]Indexing page: 3\n",
            "\n",
            "[%] Indexed 11 Images on Page 3.\n",
            "\n",
            "===============================================\n",
            "\n",
            "[%] Downloading Image #25 from http://www.prettydesigns.com/wp-content/uploads/2014/11/Astract-Flower-Tattoo.jpg\n",
            "[%] File Downloaded !\n",
            "\n",
            "[%] Downloading Image #26 from http://getwallpapers.com/wallpaper/full/1/e/a/820310-sunflowers-wallpaper-1920x1200-4k.jpg\n",
            "[%] File Downloaded !\n",
            "\n",
            "[%] Downloading Image #27 from https://www.wallpapers13.com/wp-content/uploads/2018/04/Pansy-yellow-and-purple-flowers-hd-wallpapers-1920X1200.jpg\n",
            "[%] File Downloaded !\n",
            "\n",
            "[%] Downloading Image #28 from https://www.wallpapers13.com/wp-content/uploads/2015/12/Lily-Flower-Wallpapers-HD-2560X1600-1920x1080.jpg\n",
            "[%] File Downloaded !\n",
            "\n",
            "[%] Downloading Image #29 from http://www.wohhwedding.com/wp-content/uploads/2016/05/Sunflower-Wedding-Flower-Arrangements-Decorations.jpg\n",
            "[%] File Downloaded !\n",
            "\n",
            "[%] Downloading Image #30 from https://cdn.shopify.com/s/files/1/0011/2341/8172/products/FL2415-1_1024x1024.jpg?v=1523415196\n",
            "[%] File Downloaded !\n",
            "\n",
            "\n",
            "\n",
            "[%] Done. Downloaded 30 images.\n",
            "\n",
            "===============================================\n",
            "\n",
            "time: 18 s (started: 2021-04-29 13:49:35 +00:00)\n"
          ],
          "name": "stdout"
        }
      ]
    },
    {
      "cell_type": "code",
      "metadata": {
        "colab": {
          "base_uri": "https://localhost:8080/"
        },
        "id": "ZYHvLgZiqN86",
        "outputId": "6cccce88-096e-4186-906e-33b1aacb371d"
      },
      "source": [
        "downloader.download(\"ice cream cone\",limit=30,output_dir='images',adult_filter_off=True)\n"
      ],
      "execution_count": 6,
      "outputs": [
        {
          "output_type": "stream",
          "text": [
            "\n",
            "\n",
            "[!!]Indexing page: 1\n",
            "\n",
            "[%] Indexed 12 Images on Page 1.\n",
            "\n",
            "===============================================\n",
            "\n",
            "[%] Downloading Image #1 from https://townsquare.media/site/942/files/2018/07/Ice-Cream-Cone-TSM.jpg?w=1200&amp;h=0&amp;zc=1&amp;s=0&amp;a=t&amp;q=89\n",
            "[%] File Downloaded !\n",
            "\n",
            "[%] Downloading Image #2 from https://the-glass-co.com/wp-content/uploads/2016/10/ice-cream-presentation.gif\n",
            "[%] File Downloaded !\n",
            "\n",
            "[%] Downloading Image #3 from https://c8.alamy.com/comp/EH73TT/a-big-ice-cream-cone-banner-on-display-outside-a-gelateria-rome-italy-EH73TT.jpg\n",
            "[%] File Downloaded !\n",
            "\n",
            "[%] Downloading Image #4 from https://geekologie.com/2017/04/26/black-soft-serve-ice-cream-5.jpg\n",
            "[%] File Downloaded !\n",
            "\n",
            "[%] Downloading Image #5 from https://d28mt5n9lkji5m.cloudfront.net/i/W4DviZ0U8k.jpg\n",
            "[%] File Downloaded !\n",
            "\n",
            "[%] Downloading Image #6 from https://www.roadsideamerica.com/attract/images/mo/MOAFFicecream_laura.jpg\n",
            "[%] File Downloaded !\n",
            "\n",
            "[%] Downloading Image #7 from https://www.roadsideamerica.com/attract/images/il/ILMARicecreamcone_perfectpair.jpg\n",
            "[%] File Downloaded !\n",
            "\n",
            "[%] Downloading Image #8 from https://cdn.foodbeast.com/content/uploads/2016/08/fairy-floss-ice-cream.jpg\n",
            "[%] File Downloaded !\n",
            "\n",
            "[%] Downloading Image #9 from https://www.craftymorning.com/wp-content/uploads/2016/05/cotton-candy-cones-party-favor.jpg\n",
            "[%] File Downloaded !\n",
            "\n",
            "[%] Downloading Image #10 from https://static.boredpanda.com/blog/wp-content/uploads/2017/04/black-ice-cream-cone-little-damage-4-590085eb5e59a__700.jpg\n",
            "[%] File Downloaded !\n",
            "\n",
            "[%] Downloading Image #11 from http://www.roadsideamerica.com/attract/images/il/ILMATtwistee_andy.jpg\n",
            "[%] File Downloaded !\n",
            "\n",
            "[%] Downloading Image #12 from http://images.hellogiggles.com/uploads/2017/04/15060343/charcoalcone.jpg\n",
            "[%] File Downloaded !\n",
            "\n",
            "\n",
            "\n",
            "[!!]Indexing page: 2\n",
            "\n",
            "[%] Indexed 12 Images on Page 2.\n",
            "\n",
            "===============================================\n",
            "\n",
            "[%] Downloading Image #13 from https://townsquare.media/site/942/files/2018/07/Ice-Cream-Cone-TSM.jpg?w=1200&amp;h=0&amp;zc=1&amp;s=0&amp;a=t&amp;q=89\n",
            "[%] File Downloaded !\n",
            "\n",
            "[%] Downloading Image #14 from https://the-glass-co.com/wp-content/uploads/2016/10/ice-cream-presentation.gif\n",
            "[%] File Downloaded !\n",
            "\n",
            "[%] Downloading Image #15 from https://c8.alamy.com/comp/EH73TT/a-big-ice-cream-cone-banner-on-display-outside-a-gelateria-rome-italy-EH73TT.jpg\n",
            "[%] File Downloaded !\n",
            "\n",
            "[%] Downloading Image #16 from https://geekologie.com/2017/04/26/black-soft-serve-ice-cream-5.jpg\n",
            "[%] File Downloaded !\n",
            "\n",
            "[%] Downloading Image #17 from https://d28mt5n9lkji5m.cloudfront.net/i/W4DviZ0U8k.jpg\n",
            "[%] File Downloaded !\n",
            "\n",
            "[%] Downloading Image #18 from https://www.roadsideamerica.com/attract/images/mo/MOAFFicecream_laura.jpg\n",
            "[%] File Downloaded !\n",
            "\n",
            "[%] Downloading Image #19 from https://www.roadsideamerica.com/attract/images/il/ILMARicecreamcone_perfectpair.jpg\n",
            "[%] File Downloaded !\n",
            "\n",
            "[%] Downloading Image #20 from https://cdn.foodbeast.com/content/uploads/2016/08/fairy-floss-ice-cream.jpg\n",
            "[%] File Downloaded !\n",
            "\n",
            "[%] Downloading Image #21 from https://www.craftymorning.com/wp-content/uploads/2016/05/cotton-candy-cones-party-favor.jpg\n",
            "[%] File Downloaded !\n",
            "\n",
            "[%] Downloading Image #22 from https://static.boredpanda.com/blog/wp-content/uploads/2017/04/black-ice-cream-cone-little-damage-4-590085eb5e59a__700.jpg\n",
            "[%] File Downloaded !\n",
            "\n",
            "[%] Downloading Image #23 from http://www.roadsideamerica.com/attract/images/il/ILMATtwistee_andy.jpg\n",
            "[%] File Downloaded !\n",
            "\n",
            "[%] Downloading Image #24 from http://images.hellogiggles.com/uploads/2017/04/15060343/charcoalcone.jpg\n",
            "[%] File Downloaded !\n",
            "\n",
            "\n",
            "\n",
            "[!!]Indexing page: 3\n",
            "\n",
            "[%] Indexed 11 Images on Page 3.\n",
            "\n",
            "===============================================\n",
            "\n",
            "[%] Downloading Image #25 from https://c8.alamy.com/comp/EH73TT/a-big-ice-cream-cone-banner-on-display-outside-a-gelateria-rome-italy-EH73TT.jpg\n",
            "[%] File Downloaded !\n",
            "\n",
            "[%] Downloading Image #26 from http://images.hellogiggles.com/uploads/2017/04/15060343/charcoalcone.jpg\n",
            "[%] File Downloaded !\n",
            "\n",
            "[%] Downloading Image #27 from https://www.roadsideamerica.com/attract/images/mo/MOAFFicecream_laura.jpg\n",
            "[%] File Downloaded !\n",
            "\n",
            "[%] Downloading Image #28 from https://geekologie.com/2017/04/26/black-soft-serve-ice-cream-5.jpg\n",
            "[%] File Downloaded !\n",
            "\n",
            "[%] Downloading Image #29 from https://cdn.foodbeast.com/content/uploads/2016/08/fairy-floss-ice-cream.jpg\n",
            "[%] File Downloaded !\n",
            "\n",
            "[%] Downloading Image #30 from https://www.craftymorning.com/wp-content/uploads/2016/05/cotton-candy-cones-party-favor.jpg\n",
            "[%] File Downloaded !\n",
            "\n",
            "\n",
            "\n",
            "[%] Done. Downloaded 30 images.\n",
            "\n",
            "===============================================\n",
            "\n",
            "time: 5.8 s (started: 2021-04-29 13:51:41 +00:00)\n"
          ],
          "name": "stdout"
        }
      ]
    },
    {
      "cell_type": "code",
      "metadata": {
        "colab": {
          "base_uri": "https://localhost:8080/"
        },
        "id": "y0734YO3qNvX",
        "outputId": "996472b0-277e-43f2-f900-363c52fc81ee"
      },
      "source": [
        "#preprocessing\n",
        "#1. resize\n",
        "#2. flatten\n",
        "\n",
        "\n",
        "\n",
        "import os\n",
        "import matplotlib.pyplot as plt\n",
        "import numpy as np\n",
        "from skimage.io import imread\n",
        "from skimage.transform import resize\n",
        "\n",
        "target = []\n",
        "images = []\n",
        "flat_data = []\n",
        "\n",
        "DATADIR = '/content/images'\n",
        "CATEGORIES = ['cricket ball','pretty sun flower','ice cream cone']\n",
        "\n",
        "for category in CATEGORIES:\n",
        "  class_num = CATEGORIES.index(category)     #label encoding the values\n",
        "  path = os.path.join(DATADIR,category)       #create path\n",
        "  for img in os.listdir(path):\n",
        "    img_array = imread(os.path.join(path,img))\n",
        "    #print(img_array.shape)\n",
        "    #plt.imshow(img_array)\n",
        "    #break\n",
        "    img_resized = resize(img_array,(150,150,3))\n",
        "    flat_data.append(img_resized.flatten())\n",
        "    images.append(img_resized)\n",
        "    target.append(class_num)\n",
        "\n",
        "flat_data = np.array(flat_data)\n",
        "target = np.array(target)\n",
        "images = np.array(images)"
      ],
      "execution_count": 7,
      "outputs": [
        {
          "output_type": "stream",
          "text": [
            "time: 16.2 s (started: 2021-04-29 13:52:05 +00:00)\n"
          ],
          "name": "stdout"
        }
      ]
    },
    {
      "cell_type": "code",
      "metadata": {
        "colab": {
          "base_uri": "https://localhost:8080/",
          "height": 298
        },
        "id": "Ec8tAA0KqNiW",
        "outputId": "80339e71-2a19-4e3a-dde1-e625cb8581eb"
      },
      "source": [
        "unique,count = np.unique(target,return_counts=True)\n",
        "plt.bar(CATEGORIES,count)"
      ],
      "execution_count": 8,
      "outputs": [
        {
          "output_type": "execute_result",
          "data": {
            "text/plain": [
              "<BarContainer object of 3 artists>"
            ]
          },
          "metadata": {
            "tags": []
          },
          "execution_count": 8
        },
        {
          "output_type": "display_data",
          "data": {
            "image/png": "[encoded data removed]",
            "text/plain": [
              "<Figure size 432x288 with 1 Axes>"
            ]
          },
          "metadata": {
            "tags": [],
            "needs_background": "light"
          }
        },
        {
          "output_type": "stream",
          "text": [
            "time: 177 ms (started: 2021-04-29 13:53:08 +00:00)\n"
          ],
          "name": "stdout"
        }
      ]
    },
    {
      "cell_type": "code",
      "metadata": {
        "colab": {
          "base_uri": "https://localhost:8080/"
        },
        "id": "yfpZNIaCrAp2",
        "outputId": "0fcb2217-0b6d-46f5-cf33-7c114e71582b"
      },
      "source": [
        "#split data into training and testing\n",
        "from sklearn.model_selection import train_test_split\n",
        "x_train,x_test,y_train,y_test = train_test_split(flat_data,target,test_size=0.3,random_state=110)"
      ],
      "execution_count": 9,
      "outputs": [
        {
          "output_type": "stream",
          "text": [
            "time: 191 ms (started: 2021-04-29 13:53:11 +00:00)\n"
          ],
          "name": "stdout"
        }
      ]
    },
    {
      "cell_type": "code",
      "metadata": {
        "colab": {
          "base_uri": "https://localhost:8080/"
        },
        "id": "MUd9zl15qNOR",
        "outputId": "8e8984d7-fc92-46ff-c64b-51df8703a7f3"
      },
      "source": [
        "from sklearn.model_selection import GridSearchCV\n",
        "from sklearn import svm\n",
        "param_grid = [\n",
        "              {'C':[1,10,100,1000],'kernel':['linear']},\n",
        "              {'C':[1,10,100,1000],'gamma':[0.001,0.0001],'kernel':['rbf'] }\n",
        "]\n",
        "\n",
        "svc = svm.SVC(probability=True)\n",
        "clf = GridSearchCV(svc,param_grid)\n",
        "clf.fit(x_train,y_train)"
      ],
      "execution_count": 10,
      "outputs": [
        {
          "output_type": "execute_result",
          "data": {
            "text/plain": [
              "GridSearchCV(cv=None, error_score=nan,\n",
              "             estimator=SVC(C=1.0, break_ties=False, cache_size=200,\n",
              "                           class_weight=None, coef0=0.0,\n",
              "                           decision_function_shape='ovr', degree=3,\n",
              "                           gamma='scale', kernel='rbf', max_iter=-1,\n",
              "                           probability=True, random_state=None, shrinking=True,\n",
              "                           tol=0.001, verbose=False),\n",
              "             iid='deprecated', n_jobs=None,\n",
              "             param_grid=[{'C': [1, 10, 100, 1000], 'kernel': ['linear']},\n",
              "                         {'C': [1, 10, 100, 1000], 'gamma': [0.001, 0.0001],\n",
              "                          'kernel': ['rbf']}],\n",
              "             pre_dispatch='2*n_jobs', refit=True, return_train_score=False,\n",
              "             scoring=None, verbose=0)"
            ]
          },
          "metadata": {
            "tags": []
          },
          "execution_count": 10
        },
        {
          "output_type": "stream",
          "text": [
            "time: 1min 36s (started: 2021-04-29 13:53:15 +00:00)\n"
          ],
          "name": "stdout"
        }
      ]
    },
    {
      "cell_type": "code",
      "metadata": {
        "colab": {
          "base_uri": "https://localhost:8080/"
        },
        "id": "WVXrHoadtldl",
        "outputId": "114188b2-25b0-408d-9fd2-f99da81af55a"
      },
      "source": [
        "from sklearn.metrics import accuracy_score,confusion_matrix"
      ],
      "execution_count": 11,
      "outputs": [
        {
          "output_type": "stream",
          "text": [
            "time: 1.32 ms (started: 2021-04-29 13:54:56 +00:00)\n"
          ],
          "name": "stdout"
        }
      ]
    },
    {
      "cell_type": "code",
      "metadata": {
        "colab": {
          "base_uri": "https://localhost:8080/"
        },
        "id": "27hTR4evtWfA",
        "outputId": "2e211506-9422-4610-e875-492abd2a1cf5"
      },
      "source": [
        "# save the model using pickle library\n",
        "import pickle\n",
        "pickle.dump(clf,open('img_model.p','wb'))"
      ],
      "execution_count": 12,
      "outputs": [
        {
          "output_type": "stream",
          "text": [
            "time: 35.9 ms (started: 2021-04-29 13:54:59 +00:00)\n"
          ],
          "name": "stdout"
        }
      ]
    },
    {
      "cell_type": "code",
      "metadata": {
        "colab": {
          "base_uri": "https://localhost:8080/"
        },
        "id": "UhL1Ny07twON",
        "outputId": "18527f53-aa26-487d-9c99-4fe2914d8b54"
      },
      "source": [
        "model = pickle.load(open('img_model.p','rb'))\n"
      ],
      "execution_count": 13,
      "outputs": [
        {
          "output_type": "stream",
          "text": [
            "time: 35.9 ms (started: 2021-04-29 13:55:03 +00:00)\n"
          ],
          "name": "stdout"
        }
      ]
    },
    {
      "cell_type": "code",
      "metadata": {
        "colab": {
          "base_uri": "https://localhost:8080/",
          "height": 336
        },
        "id": "-f1mRL7nt55z",
        "outputId": "d84286c1-c389-451c-b259-c8cf988e5030"
      },
      "source": [
        "#testing a brand new image\n",
        "flat_data = []\n",
        "url = input('Enter your URL')\n",
        "img = imread(url)\n",
        "img_resized = resize(img,(150,150,3))\n",
        "flat_data.append(img_resized.flatten())\n",
        "flat_data = np.array(flat_data)\n",
        "print(img.shape)\n",
        "plt.imshow(img_resized)\n",
        "y_out = model.predict(flat_data)\n",
        "y_out = CATEGORIES[y_out[0]]\n",
        "print(f'PREDICTED OUTPUT: {y_out}')"
      ],
      "execution_count": 14,
      "outputs": [
        {
          "output_type": "stream",
          "text": [
            "Enter your URLhttps://tse3.mm.bing.net/th?id=OIP.G4dA7a07gNqMJz0Z2PL1JQHaE8&pid=Api&P=0&w=254&h=170\n",
            "(170, 254, 3)\n",
            "PREDICTED OUTPUT: pretty sun flower\n"
          ],
          "name": "stdout"
        },
        {
          "output_type": "display_data",
          "data": {
            "image/png": "[encoded data removed]",
            "text/plain": [
              "<Figure size 432x288 with 1 Axes>"
            ]
          },
          "metadata": {
            "tags": [],
            "needs_background": "light"
          }
        },
        {
          "output_type": "stream",
          "text": [
            "time: 42.1 s (started: 2021-04-29 13:55:11 +00:00)\n"
          ],
          "name": "stdout"
        }
      ]
    },
    {
      "cell_type": "code",
      "metadata": {
        "colab": {
          "base_uri": "https://localhost:8080/"
        },
        "id": "Vf69pfi1YSFF",
        "outputId": "005fc21a-5110-424e-819f-29c176da0a1f"
      },
      "source": [
        "!pip install streamlit\n",
        "\n",
        "!pip install pyngrok\n",
        "from pyngrok import ngrok"
      ],
      "execution_count": 1,
      "outputs": [
        {
          "output_type": "stream",
          "text": [
            "Requirement already satisfied: streamlit in /usr/local/lib/python3.7/dist-packages (0.80.0)\n",
            "Requirement already satisfied: astor in /usr/local/lib/python3.7/dist-packages (from streamlit) (0.8.1)\n",
            "Requirement already satisfied: pillow>=6.2.0 in /usr/local/lib/python3.7/dist-packages (from streamlit) (7.1.2)\n",
            "Requirement already satisfied: numpy in /usr/local/lib/python3.7/dist-packages (from streamlit) (1.19.5)\n",
            "Requirement already satisfied: tzlocal in /usr/local/lib/python3.7/dist-packages (from streamlit) (1.5.1)\n",
            "Requirement already satisfied: tornado>=5.0 in /usr/local/lib/python3.7/dist-packages (from streamlit) (5.1.1)\n",
            "Requirement already satisfied: pyarrow; python_version < \"3.9\" in /usr/local/lib/python3.7/dist-packages (from streamlit) (3.0.0)\n",
            "Requirement already satisfied: pydeck>=0.1.dev5 in /usr/local/lib/python3.7/dist-packages (from streamlit) (0.6.2)\n",
            "Requirement already satisfied: validators in /usr/local/lib/python3.7/dist-packages (from streamlit) (0.18.2)\n",
            "Requirement already satisfied: blinker in /usr/local/lib/python3.7/dist-packages (from streamlit) (1.4)\n",
            "Requirement already satisfied: altair>=3.2.0 in /usr/local/lib/python3.7/dist-packages (from streamlit) (4.1.0)\n",
            "Requirement already satisfied: packaging in /usr/local/lib/python3.7/dist-packages (from streamlit) (20.9)\n",
            "Requirement already satisfied: requests in /usr/local/lib/python3.7/dist-packages (from streamlit) (2.23.0)\n",
            "Requirement already satisfied: pandas>=0.21.0 in /usr/local/lib/python3.7/dist-packages (from streamlit) (1.1.5)\n",
            "Requirement already satisfied: protobuf!=3.11,>=3.6.0 in /usr/local/lib/python3.7/dist-packages (from streamlit) (3.12.4)\n",
            "Requirement already satisfied: base58 in /usr/local/lib/python3.7/dist-packages (from streamlit) (2.1.0)\n",
            "Requirement already satisfied: python-dateutil in /usr/local/lib/python3.7/dist-packages (from streamlit) (2.8.1)\n",
            "Requirement already satisfied: gitpython in /usr/local/lib/python3.7/dist-packages (from streamlit) (3.1.14)\n",
            "Requirement already satisfied: toml in /usr/local/lib/python3.7/dist-packages (from streamlit) (0.10.2)\n",
            "Requirement already satisfied: cachetools>=4.0 in /usr/local/lib/python3.7/dist-packages (from streamlit) (4.2.1)\n",
            "Requirement already satisfied: watchdog; platform_system != \"Darwin\" in /usr/local/lib/python3.7/dist-packages (from streamlit) (2.0.3)\n",
            "Requirement already satisfied: click>=7.0 in /usr/local/lib/python3.7/dist-packages (from streamlit) (7.1.2)\n",
            "Requirement already satisfied: pytz in /usr/local/lib/python3.7/dist-packages (from tzlocal->streamlit) (2018.9)\n",
            "Requirement already satisfied: ipykernel>=5.1.2; python_version >= \"3.4\" in /usr/local/lib/python3.7/dist-packages (from pydeck>=0.1.dev5->streamlit) (5.5.3)\n",
            "Requirement already satisfied: ipywidgets>=7.0.0 in /usr/local/lib/python3.7/dist-packages (from pydeck>=0.1.dev5->streamlit) (7.6.3)\n",
            "Requirement already satisfied: traitlets>=4.3.2 in /usr/local/lib/python3.7/dist-packages (from pydeck>=0.1.dev5->streamlit) (5.0.5)\n",
            "Requirement already satisfied: jinja2>=2.10.1 in /usr/local/lib/python3.7/dist-packages (from pydeck>=0.1.dev5->streamlit) (2.11.3)\n",
            "Requirement already satisfied: six>=1.4.0 in /usr/local/lib/python3.7/dist-packages (from validators->streamlit) (1.15.0)\n",
            "Requirement already satisfied: decorator>=3.4.0 in /usr/local/lib/python3.7/dist-packages (from validators->streamlit) (4.4.2)\n",
            "Requirement already satisfied: jsonschema in /usr/local/lib/python3.7/dist-packages (from altair>=3.2.0->streamlit) (2.6.0)\n",
            "Requirement already satisfied: toolz in /usr/local/lib/python3.7/dist-packages (from altair>=3.2.0->streamlit) (0.11.1)\n",
            "Requirement already satisfied: entrypoints in /usr/local/lib/python3.7/dist-packages (from altair>=3.2.0->streamlit) (0.3)\n",
            "Requirement already satisfied: pyparsing>=2.0.2 in /usr/local/lib/python3.7/dist-packages (from packaging->streamlit) (2.4.7)\n",
            "Requirement already satisfied: chardet<4,>=3.0.2 in /usr/local/lib/python3.7/dist-packages (from requests->streamlit) (3.0.4)\n",
            "Requirement already satisfied: certifi>=2017.4.17 in /usr/local/lib/python3.7/dist-packages (from requests->streamlit) (2020.12.5)\n",
            "Requirement already satisfied: urllib3!=1.25.0,!=1.25.1,<1.26,>=1.21.1 in /usr/local/lib/python3.7/dist-packages (from requests->streamlit) (1.24.3)\n",
            "Requirement already satisfied: idna<3,>=2.5 in /usr/local/lib/python3.7/dist-packages (from requests->streamlit) (2.10)\n",
            "Requirement already satisfied: setuptools in /usr/local/lib/python3.7/dist-packages (from protobuf!=3.11,>=3.6.0->streamlit) (56.0.0)\n",
            "Requirement already satisfied: gitdb<5,>=4.0.1 in /usr/local/lib/python3.7/dist-packages (from gitpython->streamlit) (4.0.7)\n",
            "Requirement already satisfied: ipython>=5.0.0 in /usr/local/lib/python3.7/dist-packages (from ipykernel>=5.1.2; python_version >= \"3.4\"->pydeck>=0.1.dev5->streamlit) (5.5.0)\n",
            "Requirement already satisfied: jupyter-client in /usr/local/lib/python3.7/dist-packages (from ipykernel>=5.1.2; python_version >= \"3.4\"->pydeck>=0.1.dev5->streamlit) (5.3.5)\n",
            "Requirement already satisfied: jupyterlab-widgets>=1.0.0; python_version >= \"3.6\" in /usr/local/lib/python3.7/dist-packages (from ipywidgets>=7.0.0->pydeck>=0.1.dev5->streamlit) (1.0.0)\n",
            "Requirement already satisfied: nbformat>=4.2.0 in /usr/local/lib/python3.7/dist-packages (from ipywidgets>=7.0.0->pydeck>=0.1.dev5->streamlit) (5.1.3)\n",
            "Requirement already satisfied: widgetsnbextension~=3.5.0 in /usr/local/lib/python3.7/dist-packages (from ipywidgets>=7.0.0->pydeck>=0.1.dev5->streamlit) (3.5.1)\n",
            "Requirement already satisfied: ipython-genutils in /usr/local/lib/python3.7/dist-packages (from traitlets>=4.3.2->pydeck>=0.1.dev5->streamlit) (0.2.0)\n",
            "Requirement already satisfied: MarkupSafe>=0.23 in /usr/local/lib/python3.7/dist-packages (from jinja2>=2.10.1->pydeck>=0.1.dev5->streamlit) (1.1.1)\n",
            "Requirement already satisfied: smmap<5,>=3.0.1 in /usr/local/lib/python3.7/dist-packages (from gitdb<5,>=4.0.1->gitpython->streamlit) (4.0.0)\n",
            "Requirement already satisfied: prompt-toolkit<2.0.0,>=1.0.4 in /usr/local/lib/python3.7/dist-packages (from ipython>=5.0.0->ipykernel>=5.1.2; python_version >= \"3.4\"->pydeck>=0.1.dev5->streamlit) (1.0.18)\n",
            "Requirement already satisfied: pickleshare in /usr/local/lib/python3.7/dist-packages (from ipython>=5.0.0->ipykernel>=5.1.2; python_version >= \"3.4\"->pydeck>=0.1.dev5->streamlit) (0.7.5)\n",
            "Requirement already satisfied: pygments in /usr/local/lib/python3.7/dist-packages (from ipython>=5.0.0->ipykernel>=5.1.2; python_version >= \"3.4\"->pydeck>=0.1.dev5->streamlit) (2.6.1)\n",
            "Requirement already satisfied: pexpect; sys_platform != \"win32\" in /usr/local/lib/python3.7/dist-packages (from ipython>=5.0.0->ipykernel>=5.1.2; python_version >= \"3.4\"->pydeck>=0.1.dev5->streamlit) (4.8.0)\n",
            "Requirement already satisfied: simplegeneric>0.8 in /usr/local/lib/python3.7/dist-packages (from ipython>=5.0.0->ipykernel>=5.1.2; python_version >= \"3.4\"->pydeck>=0.1.dev5->streamlit) (0.8.1)\n",
            "Requirement already satisfied: jupyter-core>=4.6.0 in /usr/local/lib/python3.7/dist-packages (from jupyter-client->ipykernel>=5.1.2; python_version >= \"3.4\"->pydeck>=0.1.dev5->streamlit) (4.7.1)\n",
            "Requirement already satisfied: pyzmq>=13 in /usr/local/lib/python3.7/dist-packages (from jupyter-client->ipykernel>=5.1.2; python_version >= \"3.4\"->pydeck>=0.1.dev5->streamlit) (22.0.3)\n",
            "Requirement already satisfied: notebook>=4.4.1 in /usr/local/lib/python3.7/dist-packages (from widgetsnbextension~=3.5.0->ipywidgets>=7.0.0->pydeck>=0.1.dev5->streamlit) (5.3.1)\n",
            "Requirement already satisfied: wcwidth in /usr/local/lib/python3.7/dist-packages (from prompt-toolkit<2.0.0,>=1.0.4->ipython>=5.0.0->ipykernel>=5.1.2; python_version >= \"3.4\"->pydeck>=0.1.dev5->streamlit) (0.2.5)\n",
            "Requirement already satisfied: ptyprocess>=0.5 in /usr/local/lib/python3.7/dist-packages (from pexpect; sys_platform != \"win32\"->ipython>=5.0.0->ipykernel>=5.1.2; python_version >= \"3.4\"->pydeck>=0.1.dev5->streamlit) (0.7.0)\n",
            "Requirement already satisfied: terminado>=0.8.1 in /usr/local/lib/python3.7/dist-packages (from notebook>=4.4.1->widgetsnbextension~=3.5.0->ipywidgets>=7.0.0->pydeck>=0.1.dev5->streamlit) (0.9.4)\n",
            "Requirement already satisfied: nbconvert in /usr/local/lib/python3.7/dist-packages (from notebook>=4.4.1->widgetsnbextension~=3.5.0->ipywidgets>=7.0.0->pydeck>=0.1.dev5->streamlit) (5.6.1)\n",
            "Requirement already satisfied: Send2Trash in /usr/local/lib/python3.7/dist-packages (from notebook>=4.4.1->widgetsnbextension~=3.5.0->ipywidgets>=7.0.0->pydeck>=0.1.dev5->streamlit) (1.5.0)\n",
            "Requirement already satisfied: defusedxml in /usr/local/lib/python3.7/dist-packages (from nbconvert->notebook>=4.4.1->widgetsnbextension~=3.5.0->ipywidgets>=7.0.0->pydeck>=0.1.dev5->streamlit) (0.7.1)\n",
            "Requirement already satisfied: pandocfilters>=1.4.1 in /usr/local/lib/python3.7/dist-packages (from nbconvert->notebook>=4.4.1->widgetsnbextension~=3.5.0->ipywidgets>=7.0.0->pydeck>=0.1.dev5->streamlit) (1.4.3)\n",
            "Requirement already satisfied: bleach in /usr/local/lib/python3.7/dist-packages (from nbconvert->notebook>=4.4.1->widgetsnbextension~=3.5.0->ipywidgets>=7.0.0->pydeck>=0.1.dev5->streamlit) (3.3.0)\n",
            "Requirement already satisfied: mistune<2,>=0.8.1 in /usr/local/lib/python3.7/dist-packages (from nbconvert->notebook>=4.4.1->widgetsnbextension~=3.5.0->ipywidgets>=7.0.0->pydeck>=0.1.dev5->streamlit) (0.8.4)\n",
            "Requirement already satisfied: testpath in /usr/local/lib/python3.7/dist-packages (from nbconvert->notebook>=4.4.1->widgetsnbextension~=3.5.0->ipywidgets>=7.0.0->pydeck>=0.1.dev5->streamlit) (0.4.4)\n",
            "Requirement already satisfied: webencodings in /usr/local/lib/python3.7/dist-packages (from bleach->nbconvert->notebook>=4.4.1->widgetsnbextension~=3.5.0->ipywidgets>=7.0.0->pydeck>=0.1.dev5->streamlit) (0.5.1)\n",
            "Requirement already satisfied: pyngrok in /usr/local/lib/python3.7/dist-packages (5.0.5)\n",
            "Requirement already satisfied: PyYAML in /usr/local/lib/python3.7/dist-packages (from pyngrok) (3.13)\n"
          ],
          "name": "stdout"
        }
      ]
    },
    {
      "cell_type": "code",
      "metadata": {
        "colab": {
          "base_uri": "https://localhost:8080/"
        },
        "id": "mJWq70Q0Ycrh",
        "outputId": "e6de7cb6-dfc9-4a6b-9705-3ba566457a79"
      },
      "source": [
        "%%writefile app.py\n",
        "import streamlit as st\n",
        "import numpy as np\n",
        "from skimage.io import imread\n",
        "from skimage.transform import resize\n",
        "import pickle\n",
        "from PIL import Image\n",
        "st.set_option('deprecation.showfileuploaderEncoding', False)\n",
        "st.title('Image classsification')\n",
        "st.text('Upload the Image')\n",
        "\n",
        "model = pickle.load(open('img_model.p','rb'))\n",
        "\n",
        "\n",
        "uploaded_file = st.file_uploader(\"Choose an image...\", type=\"jpg\")\n",
        "if uploaded_file is not None:\n",
        "  img = Image.open(uploaded_file)\n",
        "  st.image(img,caption='Uploaded Image')\n",
        "\n",
        "if st.button('PREDICT'):\n",
        "  CATEGORIES = ['cricket ball','cars','ice cream cone']\n",
        "  st.write('Result.....')\n",
        "  flat_data = []\n",
        "  img = np.array(img)\n",
        "  img_resized = resize(img,(150,150,3))\n",
        "  flat_data.append(img_resized.flatten())\n",
        "  flat_data = np.array(flat_data)\n",
        "  y_out = model.predict(flat_data)\n",
        "  y_out = CATEGORIES[y_out[0]]\n",
        "  st.title(f'PREDICTED OUTPUT: {y_out}')\n",
        "  q  = model.predict_proba(flat_data)\n",
        "  for index, item in enumerate(CATEGORIES):\n",
        "    st.write(f'{item} : {q[0][index]*100}')\n"
      ],
      "execution_count": 2,
      "outputs": [
        {
          "output_type": "stream",
          "text": [
            "Writing app.py\n"
          ],
          "name": "stdout"
        }
      ]
    },
    {
      "cell_type": "code",
      "metadata": {
        "colab": {
          "base_uri": "https://localhost:8080/"
        },
        "id": "VdeiwtLDsFu7",
        "outputId": "722eb000-d916-490b-9e0c-11b3f2f91fbe"
      },
      "source": [
        "!nohup streamlit run app.py &\n",
        "\n",
        "url = ngrok.connect(port='8501')\n",
        "url"
      ],
      "execution_count": 3,
      "outputs": [
        {
          "output_type": "stream",
          "text": [
            "nohup: appending output to 'nohup.out'\n"
          ],
          "name": "stdout"
        },
        {
          "output_type": "execute_result",
          "data": {
            "text/plain": [
              "<NgrokTunnel: \"http://01b4ff313435.ngrok.io\" -> \"http://localhost:80\">"
            ]
          },
          "metadata": {
            "tags": []
          },
          "execution_count": 3
        }
      ]
    }
  ]
}